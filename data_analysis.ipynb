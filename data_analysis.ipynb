{
 "cells": [
  {
   "cell_type": "code",
   "execution_count": 89,
   "metadata": {},
   "outputs": [],
   "source": [
    "import numpy as np\n",
    "import pymongo\n",
    "import matplotlib.pyplot as plt\n",
    "\n",
    "from io import StringIO\n",
    "import json\n",
    "from random import randint, random\n",
    "\n",
    "from statistics import median, mean\n",
    "import pymongo\n",
    "from pysmt.smtlib.parser import SmtLibParser\n",
    "from pysmt.walkers import TreeWalker, IdentityDagWalker\n",
    "from pysmt.rewritings import CNFizer\n",
    "from pysmt.shortcuts import *\n",
    "from equiv_walker import RandomEquivDagWalker\n",
    "from pysmt.exceptions import SolverReturnedUnknownResultError, NoLogicAvailableError\n",
    "import tqdm\n",
    "import datetime\n",
    "\n",
    "from prop_walker import RandomWeakenerDagWalker\n",
    "from strengthener_walker import RandomStrengthenerDagWalker\n",
    "from symbol_walker import SymbolDagWalker\n",
    "\n",
    "\n",
    "\n",
    "import os\n",
    "import re\n",
    "import sys\n",
    "import time\n",
    "import numpy\n",
    "import requests\n",
    "import traceback\n",
    "import multiprocessing\n",
    "import pysmt\n",
    "from copy import copy\n"
   ]
  },
  {
   "cell_type": "code",
   "execution_count": 47,
   "metadata": {},
   "outputs": [],
   "source": [
    "global mongo_connection\n",
    "mongo_connection = pymongo.MongoClient(\"mongodb://\"+\"127.0.0.1\"+\":\"+\"27017\", maxPoolSize=None)\n",
    "global collection \n",
    "collection = mongo_connection[\"AUTSOFT\"][\"Z3\"]\n"
   ]
  },
  {
   "cell_type": "code",
   "execution_count": 48,
   "metadata": {},
   "outputs": [
    {
     "name": "stdout",
     "output_type": "stream",
     "text": [
      "3050\n"
     ]
    }
   ],
   "source": [
    "cursor = collection.find()\n",
    "data = list(cursor)\n",
    "print(len(data))"
   ]
  },
  {
   "cell_type": "code",
   "execution_count": 49,
   "metadata": {},
   "outputs": [],
   "source": [
    "#\n",
    "rules_equiv = {\n",
    "    #0: [array of mean differences for timing per formula, next entry]\n",
    "    #1:\n",
    "    0:[],\n",
    "    1:[],\n",
    "    2:[],\n",
    "    3:[],\n",
    "    4:[],\n",
    "    5:[],\n",
    "    6:[],\n",
    "    7:[],\n",
    "    8:[],\n",
    "    9:[],\n",
    "    10:[],\n",
    "    11:[],\n",
    "    12:[],\n",
    "    13:[],\n",
    "}\n",
    "rules_weaken = {\n",
    "    #0: [array of mean differences for timing per formula, next entry]\n",
    "    #1:\n",
    "    0:[],\n",
    "    1:[],\n",
    "    2:[],\n",
    "    3:[],\n",
    "    4:[],\n",
    "    5:[],\n",
    "    6:[],\n",
    "    7:[],\n",
    "    8:[],\n",
    "    9:[],\n",
    "    10:[],\n",
    "    11:[],\n",
    "    12:[],\n",
    "    13:[],\n",
    "}\n",
    "rules_strength = {\n",
    "    #0: [array of mean differences for timing per formula, next entry]\n",
    "    #1:\n",
    "    0:[],\n",
    "    1:[],\n",
    "    2:[],\n",
    "    3:[],\n",
    "    4:[],\n",
    "    5:[],\n",
    "    6:[],\n",
    "    7:[],\n",
    "    8:[],\n",
    "    9:[],\n",
    "    10:[],\n",
    "    11:[],\n",
    "    12:[],\n",
    "    13:[],\n",
    "}\n"
   ]
  },
  {
   "cell_type": "code",
   "execution_count": 50,
   "metadata": {},
   "outputs": [],
   "source": [
    "test_data = data[0]\n",
    "\n",
    "\n",
    "def anaylsis_for_entry(data_formula):\n",
    "    orig_formula = data_formula['formula']\n",
    "    entries= data_formula['data']\n",
    "    \n",
    "    results_equiv = copy(rules_equiv)\n",
    "    results_weaken = copy(rules_weaken)\n",
    "    results_strength = copy(rules_strength)\n",
    "    \n",
    "    results = [results_equiv,results_weaken,results_strength]\n",
    "    \n",
    "    for index, strategy in enumerate(entries):\n",
    "        #equiv, weaken/strength, mix\n",
    "        steps = strategy[0]\n",
    "        should_ret = strategy[1]\n",
    "        old_time = -1\n",
    "        first_time = -1\n",
    "        for index1, step in enumerate(steps):\n",
    "            \n",
    "            # formula, rule_number, sat/unsat/\"unkown\", walker, library_src, time in seconds\n",
    "            formula,rule_number,ret_sat,walker_used,library_src,solver,time_sec = step\n",
    "            if old_time == -1:\n",
    "                old_time = time_sec\n",
    "                first_time = old_time\n",
    "                continue\n",
    "           \n",
    "            results[index][rule_number].append(time_sec-old_time)\n",
    "            old_time = time_sec\n",
    "            \n",
    "    return first_time,*results\n",
    "#   print(test_data)\n",
    "#print(anaylsis_for_entry(test_data))"
   ]
  },
  {
   "cell_type": "code",
   "execution_count": null,
   "metadata": {},
   "outputs": [],
   "source": []
  },
  {
   "cell_type": "code",
   "execution_count": null,
   "metadata": {},
   "outputs": [],
   "source": []
  },
  {
   "cell_type": "code",
   "execution_count": 51,
   "metadata": {},
   "outputs": [],
   "source": [
    "all_res = []\n",
    "for entry in data:\n",
    "    initial_time,equiv_res,weaken_res,strength_res = anaylsis_for_entry(entry)\n",
    "    all_res.append(\n",
    "        {\n",
    "            \"initial_time\" :initial_time,\n",
    "            \"equiv_res\" :equiv_res,\n",
    "            \"weaken_res\" :weaken_res,\n",
    "            \"strength_res\" :strength_res\n",
    "        }\n",
    "    )\n",
    "    \n",
    "# print(len(all_res))\n",
    "# for key,item in all_res[-1000]['equiv_res'].items():\n",
    "#     print(key)\n",
    "#     print(len(item))\n",
    "#print( (all_res[-1000]['equiv_res'] ))"
   ]
  },
  {
   "cell_type": "code",
   "execution_count": 52,
   "metadata": {},
   "outputs": [
    {
     "name": "stdout",
     "output_type": "stream",
     "text": [
      "[0, 1, 2, 3, 4, 5, 6, 7, 8, 9, 10, 11, 12, 13]\n",
      "[-2.8371810913085938e-05, -3.7670135498046875e-05, 0, -0.0001150369644165039, -5.7697296142578125e-05, 0.003807544708251953, -0.0016551017761230469, 0, 0, 0, -1.430511474609375e-05, -8.308887481689453e-05, -0.001967191696166992, -0.00018596649169921875]\n"
     ]
    }
   ],
   "source": [
    "\n",
    "\n",
    "equiv_rules_table_result_scatter = {\n",
    "    \"x\":  [],\n",
    "    \"y\":  [],\n",
    "}\n",
    "\n",
    "equiv_rules_mean = {\n",
    "    \"x\" : [i for i in range(14)],\n",
    "    \"y\" : [[] for i in range(14)],\n",
    "}\n",
    "\n",
    "for entry in all_res:\n",
    "    equiv_res = entry['equiv_res']\n",
    "    for key,value in equiv_res.items():\n",
    "        #print(key)\n",
    "        #equiv_rules_table_result_scatter['x'].append(key)\n",
    "        equiv_rules_mean['y'][key].extend(value)\n",
    "\n",
    "for key,row in enumerate(equiv_rules_mean['y']):\n",
    "    equiv_rules_mean['y'][key] = median(row if len(row) > 0 else [0])\n",
    "\n",
    "print(equiv_rules_mean['x'])\n",
    "print(equiv_rules_mean['y'])\n"
   ]
  },
  {
   "cell_type": "code",
   "execution_count": 53,
   "metadata": {},
   "outputs": [
    {
     "name": "stdout",
     "output_type": "stream",
     "text": [
      "[0, 1, 2, 3, 4, 5, 6, 7, 8, 9, 10, 11, 12, 13]\n",
      "[-0.0007582902908325195, -0.00022411346435546875, 0.0001837015151977539, 0.00013506412506103516, 0.00011229515075683594, -0.00013875961303710938, -0.00010061264038085938, 0.0007455348968505859, 0, 0, 0, 0, 0, 0]\n"
     ]
    }
   ],
   "source": [
    "weaken_rules_table_result_scatter = {\n",
    "    \"x\":  [],\n",
    "    \"y\":  [],\n",
    "}\n",
    "\n",
    "weaken_rules_mean = {\n",
    "    \"x\" : [i for i in range(14)],\n",
    "    \"y\" : [[] for i in range(14)],\n",
    "}\n",
    "\n",
    "for entry in all_res:\n",
    "    weaken_res = entry['weaken_res']\n",
    "    for key,value in weaken_res.items():\n",
    "        #print(key)\n",
    "        #equiv_rules_table_result_scatter['x'].append(key)\n",
    "        weaken_rules_mean['y'][key].extend(value)\n",
    "\n",
    "for key,row in enumerate(weaken_rules_mean['y']):\n",
    "    weaken_rules_mean['y'][key] = median(row if len(row) > 0 else [0])\n",
    "\n",
    "print(weaken_rules_mean['x'])\n",
    "print(weaken_rules_mean['y'])"
   ]
  },
  {
   "cell_type": "code",
   "execution_count": 54,
   "metadata": {},
   "outputs": [
    {
     "name": "stdout",
     "output_type": "stream",
     "text": [
      "[0, 1, 2, 3, 4, 5, 6, 7, 8, 9, 10, 11, 12, 13]\n",
      "[-0.00014925003051757812, -0.0001876354217529297, 0.00035643577575683594, -0.0002052783966064453, 0.00029730796813964844, -0.00011730194091796875, -4.00543212890625e-05, 0.0010440349578857422, 0, 0, -2.7179718017578125e-05, -3.886222839355469e-05, 0.001940011978149414, 0]\n"
     ]
    }
   ],
   "source": [
    "strengthen_rules_table_result_scatter = {\n",
    "    \"x\":  [],\n",
    "    \"y\":  [],\n",
    "}\n",
    "\n",
    "strengthen_rules_mean = {\n",
    "    \"x\" : [i for i in range(14)],\n",
    "    \"y\" : [[] for i in range(14)],\n",
    "}\n",
    "\n",
    "for entry in all_res:\n",
    "    strengthen_res = entry['strength_res']\n",
    "    for key,value in strengthen_res.items():\n",
    "        #print(key)\n",
    "        #equiv_rules_table_result_scatter['x'].append(key)\n",
    "        strengthen_rules_mean['y'][key].extend(value)\n",
    "\n",
    "for key,row in enumerate(strengthen_rules_mean['y']):\n",
    "    strengthen_rules_mean['y'][key] = median(row if len(row) > 0 else [0])\n",
    "\n",
    "print(strengthen_rules_mean['x'])\n",
    "print(strengthen_rules_mean['y'])"
   ]
  },
  {
   "cell_type": "code",
   "execution_count": 91,
   "metadata": {},
   "outputs": [],
   "source": [
    "equiv_rules_statistic = {\n",
    "    \"x\" : [i for i in range(14)],\n",
    "    \"y\" : [[] for i in range(14)],\n",
    "}\n",
    "\n",
    "for entry in all_res:\n",
    "    equiv_res = entry['equiv_res']\n",
    "    for key,value in equiv_res.items():\n",
    "        #print(key)\n",
    "        #equiv_rules_table_result_scatter['x'].append(key)\n",
    "        equiv_rules_statistic['y'][key].extend(value)\n",
    "\n",
    "weaken_rules_statistic = {\n",
    "    \"x\" : [i for i in range(14)],\n",
    "    \"y\" : [[] for i in range(14)],\n",
    "}\n",
    "\n",
    "for entry in all_res:\n",
    "    weaken_res = entry['weaken_res']\n",
    "    for key,value in weaken_res.items():\n",
    "        #print(key)\n",
    "        #equiv_rules_table_result_scatter['x'].append(key)\n",
    "        weaken_rules_statistic['y'][key].extend(value)\n",
    "\n",
    "strengthen_rules_statistic = {\n",
    "    \"x\" : [i for i in range(14)],\n",
    "    \"y\" : [[] for i in range(14)],\n",
    "}\n",
    "\n",
    "for entry in all_res:\n",
    "    strengthen_res = entry['strength_res']\n",
    "    for key,value in strengthen_res.items():\n",
    "        #print(key)\n",
    "        #equiv_rules_table_result_scatter['x'].append(key)\n",
    "        strengthen_rules_statistic['y'][key].extend(value)"
   ]
  },
  {
   "cell_type": "code",
   "execution_count": null,
   "metadata": {},
   "outputs": [],
   "source": [
    "\n",
    "#print(\"{: <5.2f}{: <5.2f}\".format(1.22222,2.))\n",
    "\n",
    "for key in range(1):\n",
    "    print(\"Max {: <5.2f}\".format(max(equiv_rules_statistic['y'][key])))\n",
    "    print(\"Min {: <5.2f}\".format(min(equiv_rules_statistic['y'][key])))\n",
    "    print(\"Mean {: <5.2f}\".format(median(equiv_rules_statistic['y'][key])))\n",
    "    print(\"Median {: <5.2f}\".format(mean(equiv_rules_statistic['y'][key])))"
   ]
  },
  {
   "cell_type": "code",
   "execution_count": 56,
   "metadata": {},
   "outputs": [
    {
     "data": {
      "image/png": "[encoded data removed]",
      "text/plain": [
       "<Figure size 612x252 with 1 Axes>"
      ]
     },
     "metadata": {
      "needs_background": "light"
     },
     "output_type": "display_data"
    }
   ],
   "source": [
    "fig, ax = plt.subplots()\n",
    "fig.set_size_inches(8.5, 3.5)\n",
    "\n",
    "capital = [ str(\"Nr: \" + str(i)) for i in range(14)]\n",
    "\n",
    "#print(capital)\n",
    "\n",
    "x = equiv_rules_mean['x']\n",
    "y = equiv_rules_mean['y']\n",
    "\n",
    "ax.scatter(x,y)\n",
    "\n",
    "ax.set_xticks(x, labels=map(str, capital))\n",
    "ax.set_yticks([-0.002,-0.001,0.000,0.001,0.002,0.003,0.004], labels=map(str, [\"-2 ms\",\"-1 ms\", \"0 ms\",\"1 ms\",\"2 ms\",\"3 ms\",\"4 ms\"]))\n",
    "\n",
    "ax.set_ylabel('Delta Timechange in Miliseconds')\n",
    "ax.set_xlabel('Rule Number')\n",
    "\n",
    "#plt.tight_layout()\n",
    "plt.show()\n",
    "fig.savefig('equiv.pdf', bbox_inches='tight', facecolor='white', transparent=True, dpi=1000)"
   ]
  },
  {
   "cell_type": "code",
   "execution_count": 57,
   "metadata": {},
   "outputs": [
    {
     "data": {
      "image/png": "[encoded data removed]",
      "text/plain": [
       "<Figure size 612x252 with 1 Axes>"
      ]
     },
     "metadata": {
      "needs_background": "light"
     },
     "output_type": "display_data"
    }
   ],
   "source": [
    "fig, ax = plt.subplots()\n",
    "fig.set_size_inches(8.5, 3.5)\n",
    "\n",
    "capital = [ str(\"Nr: \" + str(i)) for i in range(14)]\n",
    "\n",
    "#print(capital)\n",
    "\n",
    "x = weaken_rules_mean['x']\n",
    "y = weaken_rules_mean['y']\n",
    "\n",
    "ax.scatter(x,y)\n",
    "\n",
    "ax.set_xticks(x, labels=map(str, capital))\n",
    "ax.set_yticks([-0.002,-0.001,0.000,0.001,0.002,0.003,0.004], labels=map(str, [\"-2 ms\",\"-1 ms\", \"0 ms\",\"1 ms\",\"2 ms\",\"3 ms\",\"4 ms\"]))\n",
    "\n",
    "ax.set_ylabel('Delta Timechange in Miliseconds')\n",
    "ax.set_xlabel('Rule Number')\n",
    "\n",
    "#plt.tight_layout()\n",
    "plt.show()\n",
    "fig.savefig('weaken.pdf', bbox_inches='tight', facecolor='white', transparent=True, dpi=1000)"
   ]
  },
  {
   "cell_type": "code",
   "execution_count": 58,
   "metadata": {},
   "outputs": [
    {
     "data": {
      "image/png": "[encoded data removed]",
      "text/plain": [
       "<Figure size 612x252 with 1 Axes>"
      ]
     },
     "metadata": {
      "needs_background": "light"
     },
     "output_type": "display_data"
    }
   ],
   "source": [
    "fig, ax = plt.subplots()\n",
    "fig.set_size_inches(8.5, 3.5)\n",
    "\n",
    "capital = [ str(\"Nr: \" + str(i)) for i in range(14)]\n",
    "\n",
    "#print(capital)\n",
    "\n",
    "x = strengthen_rules_mean['x']\n",
    "y = strengthen_rules_mean['y']\n",
    "\n",
    "ax.scatter(x,y)\n",
    "\n",
    "ax.set_xticks(x, labels=map(str, capital))\n",
    "ax.set_yticks([-0.002,-0.001,0.000,0.001,0.002,0.003,0.004], labels=map(str, [\"-2 ms\",\"-1 ms\", \"0 ms\",\"1 ms\",\"2 ms\",\"3 ms\",\"4 ms\"]))\n",
    "\n",
    "ax.set_ylabel('Delta Timechange in Miliseconds')\n",
    "ax.set_xlabel('Rule Number')\n",
    "\n",
    "#plt.tight_layout()\n",
    "plt.show()\n",
    "fig.savefig('strengthen.pdf', bbox_inches='tight', facecolor='white', transparent=True, dpi=1000)"
   ]
  }
 ],
 "metadata": {
  "interpreter": {
   "hash": "31f2aee4e71d21fbe5cf8b01ff0e069b9275f58929596ceb00d14d90e3e16cd6"
  },
  "kernelspec": {
   "display_name": "Python 3.9.6 64-bit",
   "language": "python",
   "name": "python3"
  },
  "language_info": {
   "codemirror_mode": {
    "name": "ipython",
    "version": 3
   },
   "file_extension": ".py",
   "mimetype": "text/x-python",
   "name": "python",
   "nbconvert_exporter": "python",
   "pygments_lexer": "ipython3",
   "version": "3.9.19"
  },
  "orig_nbformat": 4
 },
 "nbformat": 4,
 "nbformat_minor": 2
}
